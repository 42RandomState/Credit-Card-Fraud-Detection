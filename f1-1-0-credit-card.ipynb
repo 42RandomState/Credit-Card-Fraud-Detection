{
 "cells": [
  {
   "cell_type": "markdown",
   "id": "95888e4b",
   "metadata": {
    "papermill": {
     "duration": 0.0058,
     "end_time": "2025-04-27T15:10:41.800983",
     "exception": false,
     "start_time": "2025-04-27T15:10:41.795183",
     "status": "completed"
    },
    "tags": []
   },
   "source": [
    "# **F1: 1.00, Credit Card Fraud Detection**"
   ]
  },
  {
   "cell_type": "markdown",
   "id": "1238e6c6",
   "metadata": {
    "papermill": {
     "duration": 0.00492,
     "end_time": "2025-04-27T15:10:41.811375",
     "exception": false,
     "start_time": "2025-04-27T15:10:41.806455",
     "status": "completed"
    },
    "tags": []
   },
   "source": [
    "## **Powered by 42Random Forest**"
   ]
  },
  {
   "cell_type": "code",
   "execution_count": 1,
   "id": "704db6f3",
   "metadata": {
    "execution": {
     "iopub.execute_input": "2025-04-27T15:10:41.824404Z",
     "iopub.status.busy": "2025-04-27T15:10:41.824006Z",
     "iopub.status.idle": "2025-04-27T15:11:00.811524Z",
     "shell.execute_reply": "2025-04-27T15:11:00.810384Z"
    },
    "papermill": {
     "duration": 18.997031,
     "end_time": "2025-04-27T15:11:00.813522",
     "exception": false,
     "start_time": "2025-04-27T15:10:41.816491",
     "status": "completed"
    },
    "tags": []
   },
   "outputs": [],
   "source": [
    "#install old libraries for compatibility\n",
    "!pip uninstall -y scikit-learn > /dev/null 2>&1\n",
    "!pip uninstall -y category-encoders > /dev/null 2>&1\n",
    "!pip uninstall -y imbalanced-learn > /dev/null 2>&1\n",
    "\n",
    "!pip install scikit-learn==1.1.3 > /dev/null 2>&1\n",
    "!pip install imbalanced-learn==0.9.1 > /dev/null 2>&1"
   ]
  },
  {
   "cell_type": "markdown",
   "id": "6524b158",
   "metadata": {
    "papermill": {
     "duration": 0.005731,
     "end_time": "2025-04-27T15:11:00.825354",
     "exception": false,
     "start_time": "2025-04-27T15:11:00.819623",
     "status": "completed"
    },
    "tags": []
   },
   "source": [
    "### **OK, the setup is ready, let's deep into the data**"
   ]
  },
  {
   "cell_type": "markdown",
   "id": "34afff69",
   "metadata": {
    "papermill": {
     "duration": 0.006569,
     "end_time": "2025-04-27T15:11:00.837012",
     "exception": false,
     "start_time": "2025-04-27T15:11:00.830443",
     "status": "completed"
    },
    "tags": []
   },
   "source": [
    "## **1) Analyze and work on data**"
   ]
  },
  {
   "cell_type": "code",
   "execution_count": 2,
   "id": "d3f21f62",
   "metadata": {
    "execution": {
     "iopub.execute_input": "2025-04-27T15:11:00.849862Z",
     "iopub.status.busy": "2025-04-27T15:11:00.849483Z",
     "iopub.status.idle": "2025-04-27T15:11:25.172839Z",
     "shell.execute_reply": "2025-04-27T15:11:25.171388Z"
    },
    "papermill": {
     "duration": 24.332141,
     "end_time": "2025-04-27T15:11:25.175329",
     "exception": false,
     "start_time": "2025-04-27T15:11:00.843188",
     "status": "completed"
    },
    "tags": []
   },
   "outputs": [
    {
     "name": "stderr",
     "output_type": "stream",
     "text": [
      "2025-04-27 15:11:04.914696: E external/local_xla/xla/stream_executor/cuda/cuda_fft.cc:477] Unable to register cuFFT factory: Attempting to register factory for plugin cuFFT when one has already been registered\n",
      "WARNING: All log messages before absl::InitializeLog() is called are written to STDERR\n",
      "E0000 00:00:1745766665.202799      13 cuda_dnn.cc:8310] Unable to register cuDNN factory: Attempting to register factory for plugin cuDNN when one has already been registered\n",
      "E0000 00:00:1745766665.281978      13 cuda_blas.cc:1418] Unable to register cuBLAS factory: Attempting to register factory for plugin cuBLAS when one has already been registered\n"
     ]
    }
   ],
   "source": [
    "import numpy as np\n",
    "import pandas as pd\n",
    "import tensorflow as tf\n",
    "import warnings\n",
    "warnings.filterwarnings('ignore')\n",
    "\n",
    "data = pd.read_csv('/kaggle/input/creditcardfraud/creditcard.csv')"
   ]
  },
  {
   "cell_type": "code",
   "execution_count": 3,
   "id": "2577a9d4",
   "metadata": {
    "execution": {
     "iopub.execute_input": "2025-04-27T15:11:25.189399Z",
     "iopub.status.busy": "2025-04-27T15:11:25.187267Z",
     "iopub.status.idle": "2025-04-27T15:11:25.247770Z",
     "shell.execute_reply": "2025-04-27T15:11:25.246754Z"
    },
    "papermill": {
     "duration": 0.069141,
     "end_time": "2025-04-27T15:11:25.249917",
     "exception": false,
     "start_time": "2025-04-27T15:11:25.180776",
     "status": "completed"
    },
    "tags": []
   },
   "outputs": [
    {
     "data": {
      "text/html": [
       "<div>\n",
       "<style scoped>\n",
       "    .dataframe tbody tr th:only-of-type {\n",
       "        vertical-align: middle;\n",
       "    }\n",
       "\n",
       "    .dataframe tbody tr th {\n",
       "        vertical-align: top;\n",
       "    }\n",
       "\n",
       "    .dataframe thead th {\n",
       "        text-align: right;\n",
       "    }\n",
       "</style>\n",
       "<table border=\"1\" class=\"dataframe\">\n",
       "  <thead>\n",
       "    <tr style=\"text-align: right;\">\n",
       "      <th></th>\n",
       "      <th>Time</th>\n",
       "      <th>V1</th>\n",
       "      <th>V2</th>\n",
       "      <th>V3</th>\n",
       "      <th>V4</th>\n",
       "      <th>V5</th>\n",
       "      <th>V6</th>\n",
       "      <th>V7</th>\n",
       "      <th>V8</th>\n",
       "      <th>V9</th>\n",
       "      <th>...</th>\n",
       "      <th>V21</th>\n",
       "      <th>V22</th>\n",
       "      <th>V23</th>\n",
       "      <th>V24</th>\n",
       "      <th>V25</th>\n",
       "      <th>V26</th>\n",
       "      <th>V27</th>\n",
       "      <th>V28</th>\n",
       "      <th>Amount</th>\n",
       "      <th>Class</th>\n",
       "    </tr>\n",
       "  </thead>\n",
       "  <tbody>\n",
       "    <tr>\n",
       "      <th>0</th>\n",
       "      <td>0.0</td>\n",
       "      <td>-1.359807</td>\n",
       "      <td>-0.072781</td>\n",
       "      <td>2.536347</td>\n",
       "      <td>1.378155</td>\n",
       "      <td>-0.338321</td>\n",
       "      <td>0.462388</td>\n",
       "      <td>0.239599</td>\n",
       "      <td>0.098698</td>\n",
       "      <td>0.363787</td>\n",
       "      <td>...</td>\n",
       "      <td>-0.018307</td>\n",
       "      <td>0.277838</td>\n",
       "      <td>-0.110474</td>\n",
       "      <td>0.066928</td>\n",
       "      <td>0.128539</td>\n",
       "      <td>-0.189115</td>\n",
       "      <td>0.133558</td>\n",
       "      <td>-0.021053</td>\n",
       "      <td>149.62</td>\n",
       "      <td>0</td>\n",
       "    </tr>\n",
       "    <tr>\n",
       "      <th>1</th>\n",
       "      <td>0.0</td>\n",
       "      <td>1.191857</td>\n",
       "      <td>0.266151</td>\n",
       "      <td>0.166480</td>\n",
       "      <td>0.448154</td>\n",
       "      <td>0.060018</td>\n",
       "      <td>-0.082361</td>\n",
       "      <td>-0.078803</td>\n",
       "      <td>0.085102</td>\n",
       "      <td>-0.255425</td>\n",
       "      <td>...</td>\n",
       "      <td>-0.225775</td>\n",
       "      <td>-0.638672</td>\n",
       "      <td>0.101288</td>\n",
       "      <td>-0.339846</td>\n",
       "      <td>0.167170</td>\n",
       "      <td>0.125895</td>\n",
       "      <td>-0.008983</td>\n",
       "      <td>0.014724</td>\n",
       "      <td>2.69</td>\n",
       "      <td>0</td>\n",
       "    </tr>\n",
       "    <tr>\n",
       "      <th>2</th>\n",
       "      <td>1.0</td>\n",
       "      <td>-1.358354</td>\n",
       "      <td>-1.340163</td>\n",
       "      <td>1.773209</td>\n",
       "      <td>0.379780</td>\n",
       "      <td>-0.503198</td>\n",
       "      <td>1.800499</td>\n",
       "      <td>0.791461</td>\n",
       "      <td>0.247676</td>\n",
       "      <td>-1.514654</td>\n",
       "      <td>...</td>\n",
       "      <td>0.247998</td>\n",
       "      <td>0.771679</td>\n",
       "      <td>0.909412</td>\n",
       "      <td>-0.689281</td>\n",
       "      <td>-0.327642</td>\n",
       "      <td>-0.139097</td>\n",
       "      <td>-0.055353</td>\n",
       "      <td>-0.059752</td>\n",
       "      <td>378.66</td>\n",
       "      <td>0</td>\n",
       "    </tr>\n",
       "    <tr>\n",
       "      <th>3</th>\n",
       "      <td>1.0</td>\n",
       "      <td>-0.966272</td>\n",
       "      <td>-0.185226</td>\n",
       "      <td>1.792993</td>\n",
       "      <td>-0.863291</td>\n",
       "      <td>-0.010309</td>\n",
       "      <td>1.247203</td>\n",
       "      <td>0.237609</td>\n",
       "      <td>0.377436</td>\n",
       "      <td>-1.387024</td>\n",
       "      <td>...</td>\n",
       "      <td>-0.108300</td>\n",
       "      <td>0.005274</td>\n",
       "      <td>-0.190321</td>\n",
       "      <td>-1.175575</td>\n",
       "      <td>0.647376</td>\n",
       "      <td>-0.221929</td>\n",
       "      <td>0.062723</td>\n",
       "      <td>0.061458</td>\n",
       "      <td>123.50</td>\n",
       "      <td>0</td>\n",
       "    </tr>\n",
       "    <tr>\n",
       "      <th>4</th>\n",
       "      <td>2.0</td>\n",
       "      <td>-1.158233</td>\n",
       "      <td>0.877737</td>\n",
       "      <td>1.548718</td>\n",
       "      <td>0.403034</td>\n",
       "      <td>-0.407193</td>\n",
       "      <td>0.095921</td>\n",
       "      <td>0.592941</td>\n",
       "      <td>-0.270533</td>\n",
       "      <td>0.817739</td>\n",
       "      <td>...</td>\n",
       "      <td>-0.009431</td>\n",
       "      <td>0.798278</td>\n",
       "      <td>-0.137458</td>\n",
       "      <td>0.141267</td>\n",
       "      <td>-0.206010</td>\n",
       "      <td>0.502292</td>\n",
       "      <td>0.219422</td>\n",
       "      <td>0.215153</td>\n",
       "      <td>69.99</td>\n",
       "      <td>0</td>\n",
       "    </tr>\n",
       "  </tbody>\n",
       "</table>\n",
       "<p>5 rows × 31 columns</p>\n",
       "</div>"
      ],
      "text/plain": [
       "   Time        V1        V2        V3        V4        V5        V6        V7  \\\n",
       "0   0.0 -1.359807 -0.072781  2.536347  1.378155 -0.338321  0.462388  0.239599   \n",
       "1   0.0  1.191857  0.266151  0.166480  0.448154  0.060018 -0.082361 -0.078803   \n",
       "2   1.0 -1.358354 -1.340163  1.773209  0.379780 -0.503198  1.800499  0.791461   \n",
       "3   1.0 -0.966272 -0.185226  1.792993 -0.863291 -0.010309  1.247203  0.237609   \n",
       "4   2.0 -1.158233  0.877737  1.548718  0.403034 -0.407193  0.095921  0.592941   \n",
       "\n",
       "         V8        V9  ...       V21       V22       V23       V24       V25  \\\n",
       "0  0.098698  0.363787  ... -0.018307  0.277838 -0.110474  0.066928  0.128539   \n",
       "1  0.085102 -0.255425  ... -0.225775 -0.638672  0.101288 -0.339846  0.167170   \n",
       "2  0.247676 -1.514654  ...  0.247998  0.771679  0.909412 -0.689281 -0.327642   \n",
       "3  0.377436 -1.387024  ... -0.108300  0.005274 -0.190321 -1.175575  0.647376   \n",
       "4 -0.270533  0.817739  ... -0.009431  0.798278 -0.137458  0.141267 -0.206010   \n",
       "\n",
       "        V26       V27       V28  Amount  Class  \n",
       "0 -0.189115  0.133558 -0.021053  149.62      0  \n",
       "1  0.125895 -0.008983  0.014724    2.69      0  \n",
       "2 -0.139097 -0.055353 -0.059752  378.66      0  \n",
       "3 -0.221929  0.062723  0.061458  123.50      0  \n",
       "4  0.502292  0.219422  0.215153   69.99      0  \n",
       "\n",
       "[5 rows x 31 columns]"
      ]
     },
     "execution_count": 3,
     "metadata": {},
     "output_type": "execute_result"
    }
   ],
   "source": [
    "data.head()"
   ]
  },
  {
   "cell_type": "code",
   "execution_count": 4,
   "id": "56288749",
   "metadata": {
    "execution": {
     "iopub.execute_input": "2025-04-27T15:11:25.265357Z",
     "iopub.status.busy": "2025-04-27T15:11:25.264381Z",
     "iopub.status.idle": "2025-04-27T15:11:25.331661Z",
     "shell.execute_reply": "2025-04-27T15:11:25.330051Z"
    },
    "papermill": {
     "duration": 0.077712,
     "end_time": "2025-04-27T15:11:25.333498",
     "exception": false,
     "start_time": "2025-04-27T15:11:25.255786",
     "status": "completed"
    },
    "tags": []
   },
   "outputs": [
    {
     "name": "stdout",
     "output_type": "stream",
     "text": [
      "<class 'pandas.core.frame.DataFrame'>\n",
      "RangeIndex: 284807 entries, 0 to 284806\n",
      "Data columns (total 31 columns):\n",
      " #   Column  Non-Null Count   Dtype  \n",
      "---  ------  --------------   -----  \n",
      " 0   Time    284807 non-null  float64\n",
      " 1   V1      284807 non-null  float64\n",
      " 2   V2      284807 non-null  float64\n",
      " 3   V3      284807 non-null  float64\n",
      " 4   V4      284807 non-null  float64\n",
      " 5   V5      284807 non-null  float64\n",
      " 6   V6      284807 non-null  float64\n",
      " 7   V7      284807 non-null  float64\n",
      " 8   V8      284807 non-null  float64\n",
      " 9   V9      284807 non-null  float64\n",
      " 10  V10     284807 non-null  float64\n",
      " 11  V11     284807 non-null  float64\n",
      " 12  V12     284807 non-null  float64\n",
      " 13  V13     284807 non-null  float64\n",
      " 14  V14     284807 non-null  float64\n",
      " 15  V15     284807 non-null  float64\n",
      " 16  V16     284807 non-null  float64\n",
      " 17  V17     284807 non-null  float64\n",
      " 18  V18     284807 non-null  float64\n",
      " 19  V19     284807 non-null  float64\n",
      " 20  V20     284807 non-null  float64\n",
      " 21  V21     284807 non-null  float64\n",
      " 22  V22     284807 non-null  float64\n",
      " 23  V23     284807 non-null  float64\n",
      " 24  V24     284807 non-null  float64\n",
      " 25  V25     284807 non-null  float64\n",
      " 26  V26     284807 non-null  float64\n",
      " 27  V27     284807 non-null  float64\n",
      " 28  V28     284807 non-null  float64\n",
      " 29  Amount  284807 non-null  float64\n",
      " 30  Class   284807 non-null  int64  \n",
      "dtypes: float64(30), int64(1)\n",
      "memory usage: 67.4 MB\n"
     ]
    }
   ],
   "source": [
    "data.info()"
   ]
  },
  {
   "cell_type": "code",
   "execution_count": 5,
   "id": "445eb74a",
   "metadata": {
    "execution": {
     "iopub.execute_input": "2025-04-27T15:11:25.349183Z",
     "iopub.status.busy": "2025-04-27T15:11:25.348809Z",
     "iopub.status.idle": "2025-04-27T15:11:25.852080Z",
     "shell.execute_reply": "2025-04-27T15:11:25.851130Z"
    },
    "papermill": {
     "duration": 0.513744,
     "end_time": "2025-04-27T15:11:25.853629",
     "exception": false,
     "start_time": "2025-04-27T15:11:25.339885",
     "status": "completed"
    },
    "tags": []
   },
   "outputs": [
    {
     "data": {
      "text/html": [
       "<div>\n",
       "<style scoped>\n",
       "    .dataframe tbody tr th:only-of-type {\n",
       "        vertical-align: middle;\n",
       "    }\n",
       "\n",
       "    .dataframe tbody tr th {\n",
       "        vertical-align: top;\n",
       "    }\n",
       "\n",
       "    .dataframe thead th {\n",
       "        text-align: right;\n",
       "    }\n",
       "</style>\n",
       "<table border=\"1\" class=\"dataframe\">\n",
       "  <thead>\n",
       "    <tr style=\"text-align: right;\">\n",
       "      <th></th>\n",
       "      <th>Time</th>\n",
       "      <th>V1</th>\n",
       "      <th>V2</th>\n",
       "      <th>V3</th>\n",
       "      <th>V4</th>\n",
       "      <th>V5</th>\n",
       "      <th>V6</th>\n",
       "      <th>V7</th>\n",
       "      <th>V8</th>\n",
       "      <th>V9</th>\n",
       "      <th>...</th>\n",
       "      <th>V21</th>\n",
       "      <th>V22</th>\n",
       "      <th>V23</th>\n",
       "      <th>V24</th>\n",
       "      <th>V25</th>\n",
       "      <th>V26</th>\n",
       "      <th>V27</th>\n",
       "      <th>V28</th>\n",
       "      <th>Amount</th>\n",
       "      <th>Class</th>\n",
       "    </tr>\n",
       "  </thead>\n",
       "  <tbody>\n",
       "    <tr>\n",
       "      <th>count</th>\n",
       "      <td>284807.000000</td>\n",
       "      <td>2.848070e+05</td>\n",
       "      <td>2.848070e+05</td>\n",
       "      <td>2.848070e+05</td>\n",
       "      <td>2.848070e+05</td>\n",
       "      <td>2.848070e+05</td>\n",
       "      <td>2.848070e+05</td>\n",
       "      <td>2.848070e+05</td>\n",
       "      <td>2.848070e+05</td>\n",
       "      <td>2.848070e+05</td>\n",
       "      <td>...</td>\n",
       "      <td>2.848070e+05</td>\n",
       "      <td>2.848070e+05</td>\n",
       "      <td>2.848070e+05</td>\n",
       "      <td>2.848070e+05</td>\n",
       "      <td>2.848070e+05</td>\n",
       "      <td>2.848070e+05</td>\n",
       "      <td>2.848070e+05</td>\n",
       "      <td>2.848070e+05</td>\n",
       "      <td>284807.000000</td>\n",
       "      <td>284807.000000</td>\n",
       "    </tr>\n",
       "    <tr>\n",
       "      <th>mean</th>\n",
       "      <td>94813.859575</td>\n",
       "      <td>1.175161e-15</td>\n",
       "      <td>3.369007e-16</td>\n",
       "      <td>-1.379537e-15</td>\n",
       "      <td>2.094852e-15</td>\n",
       "      <td>1.021879e-15</td>\n",
       "      <td>1.500885e-15</td>\n",
       "      <td>-5.620335e-16</td>\n",
       "      <td>1.149614e-16</td>\n",
       "      <td>-2.426963e-15</td>\n",
       "      <td>...</td>\n",
       "      <td>1.596686e-16</td>\n",
       "      <td>-3.576577e-16</td>\n",
       "      <td>2.650499e-16</td>\n",
       "      <td>4.472317e-15</td>\n",
       "      <td>5.109395e-16</td>\n",
       "      <td>1.686100e-15</td>\n",
       "      <td>-3.662399e-16</td>\n",
       "      <td>-1.225457e-16</td>\n",
       "      <td>88.349619</td>\n",
       "      <td>0.001727</td>\n",
       "    </tr>\n",
       "    <tr>\n",
       "      <th>std</th>\n",
       "      <td>47488.145955</td>\n",
       "      <td>1.958696e+00</td>\n",
       "      <td>1.651309e+00</td>\n",
       "      <td>1.516255e+00</td>\n",
       "      <td>1.415869e+00</td>\n",
       "      <td>1.380247e+00</td>\n",
       "      <td>1.332271e+00</td>\n",
       "      <td>1.237094e+00</td>\n",
       "      <td>1.194353e+00</td>\n",
       "      <td>1.098632e+00</td>\n",
       "      <td>...</td>\n",
       "      <td>7.345240e-01</td>\n",
       "      <td>7.257016e-01</td>\n",
       "      <td>6.244603e-01</td>\n",
       "      <td>6.056471e-01</td>\n",
       "      <td>5.212781e-01</td>\n",
       "      <td>4.822270e-01</td>\n",
       "      <td>4.036325e-01</td>\n",
       "      <td>3.300833e-01</td>\n",
       "      <td>250.120109</td>\n",
       "      <td>0.041527</td>\n",
       "    </tr>\n",
       "    <tr>\n",
       "      <th>min</th>\n",
       "      <td>0.000000</td>\n",
       "      <td>-5.640751e+01</td>\n",
       "      <td>-7.271573e+01</td>\n",
       "      <td>-4.832559e+01</td>\n",
       "      <td>-5.683171e+00</td>\n",
       "      <td>-1.137433e+02</td>\n",
       "      <td>-2.616051e+01</td>\n",
       "      <td>-4.355724e+01</td>\n",
       "      <td>-7.321672e+01</td>\n",
       "      <td>-1.343407e+01</td>\n",
       "      <td>...</td>\n",
       "      <td>-3.483038e+01</td>\n",
       "      <td>-1.093314e+01</td>\n",
       "      <td>-4.480774e+01</td>\n",
       "      <td>-2.836627e+00</td>\n",
       "      <td>-1.029540e+01</td>\n",
       "      <td>-2.604551e+00</td>\n",
       "      <td>-2.256568e+01</td>\n",
       "      <td>-1.543008e+01</td>\n",
       "      <td>0.000000</td>\n",
       "      <td>0.000000</td>\n",
       "    </tr>\n",
       "    <tr>\n",
       "      <th>25%</th>\n",
       "      <td>54201.500000</td>\n",
       "      <td>-9.203734e-01</td>\n",
       "      <td>-5.985499e-01</td>\n",
       "      <td>-8.903648e-01</td>\n",
       "      <td>-8.486401e-01</td>\n",
       "      <td>-6.915971e-01</td>\n",
       "      <td>-7.682956e-01</td>\n",
       "      <td>-5.540759e-01</td>\n",
       "      <td>-2.086297e-01</td>\n",
       "      <td>-6.430976e-01</td>\n",
       "      <td>...</td>\n",
       "      <td>-2.283949e-01</td>\n",
       "      <td>-5.423504e-01</td>\n",
       "      <td>-1.618463e-01</td>\n",
       "      <td>-3.545861e-01</td>\n",
       "      <td>-3.171451e-01</td>\n",
       "      <td>-3.269839e-01</td>\n",
       "      <td>-7.083953e-02</td>\n",
       "      <td>-5.295979e-02</td>\n",
       "      <td>5.600000</td>\n",
       "      <td>0.000000</td>\n",
       "    </tr>\n",
       "    <tr>\n",
       "      <th>50%</th>\n",
       "      <td>84692.000000</td>\n",
       "      <td>1.810880e-02</td>\n",
       "      <td>6.548556e-02</td>\n",
       "      <td>1.798463e-01</td>\n",
       "      <td>-1.984653e-02</td>\n",
       "      <td>-5.433583e-02</td>\n",
       "      <td>-2.741871e-01</td>\n",
       "      <td>4.010308e-02</td>\n",
       "      <td>2.235804e-02</td>\n",
       "      <td>-5.142873e-02</td>\n",
       "      <td>...</td>\n",
       "      <td>-2.945017e-02</td>\n",
       "      <td>6.781943e-03</td>\n",
       "      <td>-1.119293e-02</td>\n",
       "      <td>4.097606e-02</td>\n",
       "      <td>1.659350e-02</td>\n",
       "      <td>-5.213911e-02</td>\n",
       "      <td>1.342146e-03</td>\n",
       "      <td>1.124383e-02</td>\n",
       "      <td>22.000000</td>\n",
       "      <td>0.000000</td>\n",
       "    </tr>\n",
       "    <tr>\n",
       "      <th>75%</th>\n",
       "      <td>139320.500000</td>\n",
       "      <td>1.315642e+00</td>\n",
       "      <td>8.037239e-01</td>\n",
       "      <td>1.027196e+00</td>\n",
       "      <td>7.433413e-01</td>\n",
       "      <td>6.119264e-01</td>\n",
       "      <td>3.985649e-01</td>\n",
       "      <td>5.704361e-01</td>\n",
       "      <td>3.273459e-01</td>\n",
       "      <td>5.971390e-01</td>\n",
       "      <td>...</td>\n",
       "      <td>1.863772e-01</td>\n",
       "      <td>5.285536e-01</td>\n",
       "      <td>1.476421e-01</td>\n",
       "      <td>4.395266e-01</td>\n",
       "      <td>3.507156e-01</td>\n",
       "      <td>2.409522e-01</td>\n",
       "      <td>9.104512e-02</td>\n",
       "      <td>7.827995e-02</td>\n",
       "      <td>77.165000</td>\n",
       "      <td>0.000000</td>\n",
       "    </tr>\n",
       "    <tr>\n",
       "      <th>max</th>\n",
       "      <td>172792.000000</td>\n",
       "      <td>2.454930e+00</td>\n",
       "      <td>2.205773e+01</td>\n",
       "      <td>9.382558e+00</td>\n",
       "      <td>1.687534e+01</td>\n",
       "      <td>3.480167e+01</td>\n",
       "      <td>7.330163e+01</td>\n",
       "      <td>1.205895e+02</td>\n",
       "      <td>2.000721e+01</td>\n",
       "      <td>1.559499e+01</td>\n",
       "      <td>...</td>\n",
       "      <td>2.720284e+01</td>\n",
       "      <td>1.050309e+01</td>\n",
       "      <td>2.252841e+01</td>\n",
       "      <td>4.584549e+00</td>\n",
       "      <td>7.519589e+00</td>\n",
       "      <td>3.517346e+00</td>\n",
       "      <td>3.161220e+01</td>\n",
       "      <td>3.384781e+01</td>\n",
       "      <td>25691.160000</td>\n",
       "      <td>1.000000</td>\n",
       "    </tr>\n",
       "  </tbody>\n",
       "</table>\n",
       "<p>8 rows × 31 columns</p>\n",
       "</div>"
      ],
      "text/plain": [
       "                Time            V1            V2            V3            V4  \\\n",
       "count  284807.000000  2.848070e+05  2.848070e+05  2.848070e+05  2.848070e+05   \n",
       "mean    94813.859575  1.175161e-15  3.369007e-16 -1.379537e-15  2.094852e-15   \n",
       "std     47488.145955  1.958696e+00  1.651309e+00  1.516255e+00  1.415869e+00   \n",
       "min         0.000000 -5.640751e+01 -7.271573e+01 -4.832559e+01 -5.683171e+00   \n",
       "25%     54201.500000 -9.203734e-01 -5.985499e-01 -8.903648e-01 -8.486401e-01   \n",
       "50%     84692.000000  1.810880e-02  6.548556e-02  1.798463e-01 -1.984653e-02   \n",
       "75%    139320.500000  1.315642e+00  8.037239e-01  1.027196e+00  7.433413e-01   \n",
       "max    172792.000000  2.454930e+00  2.205773e+01  9.382558e+00  1.687534e+01   \n",
       "\n",
       "                 V5            V6            V7            V8            V9  \\\n",
       "count  2.848070e+05  2.848070e+05  2.848070e+05  2.848070e+05  2.848070e+05   \n",
       "mean   1.021879e-15  1.500885e-15 -5.620335e-16  1.149614e-16 -2.426963e-15   \n",
       "std    1.380247e+00  1.332271e+00  1.237094e+00  1.194353e+00  1.098632e+00   \n",
       "min   -1.137433e+02 -2.616051e+01 -4.355724e+01 -7.321672e+01 -1.343407e+01   \n",
       "25%   -6.915971e-01 -7.682956e-01 -5.540759e-01 -2.086297e-01 -6.430976e-01   \n",
       "50%   -5.433583e-02 -2.741871e-01  4.010308e-02  2.235804e-02 -5.142873e-02   \n",
       "75%    6.119264e-01  3.985649e-01  5.704361e-01  3.273459e-01  5.971390e-01   \n",
       "max    3.480167e+01  7.330163e+01  1.205895e+02  2.000721e+01  1.559499e+01   \n",
       "\n",
       "       ...           V21           V22           V23           V24  \\\n",
       "count  ...  2.848070e+05  2.848070e+05  2.848070e+05  2.848070e+05   \n",
       "mean   ...  1.596686e-16 -3.576577e-16  2.650499e-16  4.472317e-15   \n",
       "std    ...  7.345240e-01  7.257016e-01  6.244603e-01  6.056471e-01   \n",
       "min    ... -3.483038e+01 -1.093314e+01 -4.480774e+01 -2.836627e+00   \n",
       "25%    ... -2.283949e-01 -5.423504e-01 -1.618463e-01 -3.545861e-01   \n",
       "50%    ... -2.945017e-02  6.781943e-03 -1.119293e-02  4.097606e-02   \n",
       "75%    ...  1.863772e-01  5.285536e-01  1.476421e-01  4.395266e-01   \n",
       "max    ...  2.720284e+01  1.050309e+01  2.252841e+01  4.584549e+00   \n",
       "\n",
       "                V25           V26           V27           V28         Amount  \\\n",
       "count  2.848070e+05  2.848070e+05  2.848070e+05  2.848070e+05  284807.000000   \n",
       "mean   5.109395e-16  1.686100e-15 -3.662399e-16 -1.225457e-16      88.349619   \n",
       "std    5.212781e-01  4.822270e-01  4.036325e-01  3.300833e-01     250.120109   \n",
       "min   -1.029540e+01 -2.604551e+00 -2.256568e+01 -1.543008e+01       0.000000   \n",
       "25%   -3.171451e-01 -3.269839e-01 -7.083953e-02 -5.295979e-02       5.600000   \n",
       "50%    1.659350e-02 -5.213911e-02  1.342146e-03  1.124383e-02      22.000000   \n",
       "75%    3.507156e-01  2.409522e-01  9.104512e-02  7.827995e-02      77.165000   \n",
       "max    7.519589e+00  3.517346e+00  3.161220e+01  3.384781e+01   25691.160000   \n",
       "\n",
       "               Class  \n",
       "count  284807.000000  \n",
       "mean        0.001727  \n",
       "std         0.041527  \n",
       "min         0.000000  \n",
       "25%         0.000000  \n",
       "50%         0.000000  \n",
       "75%         0.000000  \n",
       "max         1.000000  \n",
       "\n",
       "[8 rows x 31 columns]"
      ]
     },
     "execution_count": 5,
     "metadata": {},
     "output_type": "execute_result"
    }
   ],
   "source": [
    "data.describe()"
   ]
  },
  {
   "cell_type": "code",
   "execution_count": 6,
   "id": "aef5bb21",
   "metadata": {
    "execution": {
     "iopub.execute_input": "2025-04-27T15:11:25.867185Z",
     "iopub.status.busy": "2025-04-27T15:11:25.866833Z",
     "iopub.status.idle": "2025-04-27T15:11:25.872936Z",
     "shell.execute_reply": "2025-04-27T15:11:25.871680Z"
    },
    "papermill": {
     "duration": 0.014464,
     "end_time": "2025-04-27T15:11:25.874664",
     "exception": false,
     "start_time": "2025-04-27T15:11:25.860200",
     "status": "completed"
    },
    "tags": []
   },
   "outputs": [
    {
     "data": {
      "text/plain": [
       "(284807, 31)"
      ]
     },
     "execution_count": 6,
     "metadata": {},
     "output_type": "execute_result"
    }
   ],
   "source": [
    "data.shape #The shape of the dataset"
   ]
  },
  {
   "cell_type": "code",
   "execution_count": 7,
   "id": "71a0263c",
   "metadata": {
    "execution": {
     "iopub.execute_input": "2025-04-27T15:11:25.887758Z",
     "iopub.status.busy": "2025-04-27T15:11:25.887446Z",
     "iopub.status.idle": "2025-04-27T15:11:25.926938Z",
     "shell.execute_reply": "2025-04-27T15:11:25.925684Z"
    },
    "papermill": {
     "duration": 0.048633,
     "end_time": "2025-04-27T15:11:25.929238",
     "exception": false,
     "start_time": "2025-04-27T15:11:25.880605",
     "status": "completed"
    },
    "tags": []
   },
   "outputs": [
    {
     "data": {
      "text/plain": [
       "Time      0\n",
       "V1        0\n",
       "V2        0\n",
       "V3        0\n",
       "V4        0\n",
       "V5        0\n",
       "V6        0\n",
       "V7        0\n",
       "V8        0\n",
       "V9        0\n",
       "V10       0\n",
       "V11       0\n",
       "V12       0\n",
       "V13       0\n",
       "V14       0\n",
       "V15       0\n",
       "V16       0\n",
       "V17       0\n",
       "V18       0\n",
       "V19       0\n",
       "V20       0\n",
       "V21       0\n",
       "V22       0\n",
       "V23       0\n",
       "V24       0\n",
       "V25       0\n",
       "V26       0\n",
       "V27       0\n",
       "V28       0\n",
       "Amount    0\n",
       "Class     0\n",
       "dtype: int64"
      ]
     },
     "execution_count": 7,
     "metadata": {},
     "output_type": "execute_result"
    }
   ],
   "source": [
    "data.isnull().sum()"
   ]
  },
  {
   "cell_type": "code",
   "execution_count": 8,
   "id": "024252ea",
   "metadata": {
    "execution": {
     "iopub.execute_input": "2025-04-27T15:11:25.945061Z",
     "iopub.status.busy": "2025-04-27T15:11:25.944688Z",
     "iopub.status.idle": "2025-04-27T15:11:26.886749Z",
     "shell.execute_reply": "2025-04-27T15:11:26.885601Z"
    },
    "papermill": {
     "duration": 0.951882,
     "end_time": "2025-04-27T15:11:26.888448",
     "exception": false,
     "start_time": "2025-04-27T15:11:25.936566",
     "status": "completed"
    },
    "tags": []
   },
   "outputs": [
    {
     "data": {
      "text/plain": [
       "1081"
      ]
     },
     "execution_count": 8,
     "metadata": {},
     "output_type": "execute_result"
    }
   ],
   "source": [
    "data.duplicated().sum() #Check for duplicates"
   ]
  },
  {
   "cell_type": "code",
   "execution_count": 9,
   "id": "fda95b47",
   "metadata": {
    "execution": {
     "iopub.execute_input": "2025-04-27T15:11:26.901946Z",
     "iopub.status.busy": "2025-04-27T15:11:26.901640Z",
     "iopub.status.idle": "2025-04-27T15:11:27.892199Z",
     "shell.execute_reply": "2025-04-27T15:11:27.891089Z"
    },
    "papermill": {
     "duration": 0.99903,
     "end_time": "2025-04-27T15:11:27.893747",
     "exception": false,
     "start_time": "2025-04-27T15:11:26.894717",
     "status": "completed"
    },
    "tags": []
   },
   "outputs": [
    {
     "data": {
      "text/plain": [
       "(283726, 31)"
      ]
     },
     "execution_count": 9,
     "metadata": {},
     "output_type": "execute_result"
    }
   ],
   "source": [
    "data.drop_duplicates(inplace=True) #Take away those duplicates\n",
    "data.shape"
   ]
  },
  {
   "cell_type": "code",
   "execution_count": 10,
   "id": "d375bdb5",
   "metadata": {
    "execution": {
     "iopub.execute_input": "2025-04-27T15:11:27.908443Z",
     "iopub.status.busy": "2025-04-27T15:11:27.908131Z",
     "iopub.status.idle": "2025-04-27T15:11:27.917933Z",
     "shell.execute_reply": "2025-04-27T15:11:27.917016Z"
    },
    "papermill": {
     "duration": 0.019505,
     "end_time": "2025-04-27T15:11:27.919482",
     "exception": false,
     "start_time": "2025-04-27T15:11:27.899977",
     "status": "completed"
    },
    "tags": []
   },
   "outputs": [
    {
     "name": "stdout",
     "output_type": "stream",
     "text": [
      "Class\n",
      "0    0.998333\n",
      "1    0.001667\n",
      "Name: proportion, dtype: float64\n"
     ]
    }
   ],
   "source": [
    "#Check if the classes are unbalanced\n",
    "print(pd.Series(data[\"Class\"]).value_counts(normalize=True))"
   ]
  },
  {
   "cell_type": "markdown",
   "id": "626e7d91",
   "metadata": {
    "papermill": {
     "duration": 0.006099,
     "end_time": "2025-04-27T15:11:27.932086",
     "exception": false,
     "start_time": "2025-04-27T15:11:27.925987",
     "status": "completed"
    },
    "tags": []
   },
   "source": [
    "### **The classes are very unbalanced**"
   ]
  },
  {
   "cell_type": "code",
   "execution_count": 11,
   "id": "716f57da",
   "metadata": {
    "execution": {
     "iopub.execute_input": "2025-04-27T15:11:27.946830Z",
     "iopub.status.busy": "2025-04-27T15:11:27.945914Z",
     "iopub.status.idle": "2025-04-27T15:11:30.725740Z",
     "shell.execute_reply": "2025-04-27T15:11:30.724851Z"
    },
    "papermill": {
     "duration": 2.788933,
     "end_time": "2025-04-27T15:11:30.727513",
     "exception": false,
     "start_time": "2025-04-27T15:11:27.938580",
     "status": "completed"
    },
    "tags": []
   },
   "outputs": [],
   "source": [
    "#Try to balance the classes\n",
    "from sklearn.model_selection import train_test_split \n",
    "from imblearn.over_sampling import RandomOverSampler\n",
    "\n",
    "X=data.drop(['Class'],axis=1)\n",
    "y=data['Class']\n",
    "X_over,y_over=RandomOverSampler().fit_resample(X,y)\n",
    "\n",
    "X_train_full, X_test, y_train_full, y_test = train_test_split(X_over, y_over, test_size=0.1, random_state=42, stratify=y_over)\n",
    "X_train, X_val, y_train, y_val = train_test_split(X_train_full, y_train_full, test_size=0.1111, random_state=42, stratify=y_train_full)"
   ]
  },
  {
   "cell_type": "code",
   "execution_count": 12,
   "id": "05b5012d",
   "metadata": {
    "execution": {
     "iopub.execute_input": "2025-04-27T15:11:30.742416Z",
     "iopub.status.busy": "2025-04-27T15:11:30.741642Z",
     "iopub.status.idle": "2025-04-27T15:11:30.752081Z",
     "shell.execute_reply": "2025-04-27T15:11:30.751043Z"
    },
    "papermill": {
     "duration": 0.019746,
     "end_time": "2025-04-27T15:11:30.753483",
     "exception": false,
     "start_time": "2025-04-27T15:11:30.733737",
     "status": "completed"
    },
    "tags": []
   },
   "outputs": [
    {
     "name": "stdout",
     "output_type": "stream",
     "text": [
      "Class\n",
      "0    0.5\n",
      "1    0.5\n",
      "Name: proportion, dtype: float64\n"
     ]
    }
   ],
   "source": [
    "#Double check if the classes are balanced\n",
    "print(pd.Series(y_train).value_counts(normalize=True))"
   ]
  },
  {
   "cell_type": "code",
   "execution_count": 13,
   "id": "902cea8a",
   "metadata": {
    "execution": {
     "iopub.execute_input": "2025-04-27T15:11:30.767865Z",
     "iopub.status.busy": "2025-04-27T15:11:30.766898Z",
     "iopub.status.idle": "2025-04-27T15:11:31.900613Z",
     "shell.execute_reply": "2025-04-27T15:11:31.899685Z"
    },
    "papermill": {
     "duration": 1.142343,
     "end_time": "2025-04-27T15:11:31.902146",
     "exception": false,
     "start_time": "2025-04-27T15:11:30.759803",
     "status": "completed"
    },
    "tags": []
   },
   "outputs": [
    {
     "name": "stdout",
     "output_type": "stream",
     "text": [
      "Categorical features:  Index([], dtype='object')\n",
      "Numerical features:  Index(['Time', 'V1', 'V2', 'V3', 'V4', 'V5', 'V6', 'V7', 'V8', 'V9', 'V10',\n",
      "       'V11', 'V12', 'V13', 'V14', 'V15', 'V16', 'V17', 'V18', 'V19', 'V20',\n",
      "       'V21', 'V22', 'V23', 'V24', 'V25', 'V26', 'V27', 'V28', 'Amount'],\n",
      "      dtype='object')\n",
      "High skew features: ['Amount', 'V20', 'V28', 'V2', 'V11', 'V22', 'V4']\n"
     ]
    }
   ],
   "source": [
    "#Find out which features are categorical, numerical or heavy-tailed\n",
    "categorical_cols = X_train.select_dtypes(include='object').columns\n",
    "numeric_cols = X_train.select_dtypes(include=np.number).columns\n",
    "\n",
    "print(\"Categorical features: \", categorical_cols)\n",
    "print(\"Numerical features: \", numeric_cols)\n",
    "\n",
    "from scipy.stats import skew\n",
    "numeric_cols = X_train.select_dtypes(include=np.number).columns\n",
    "skewed_feats = X_train[numeric_cols].apply(lambda x: skew(x.dropna())).sort_values(ascending=False)\n",
    "skewed_features = skewed_feats[skewed_feats > 0.8].index.tolist()\n",
    "skewed_features = [col for col in skewed_features if col in X_train.columns]\n",
    "\n",
    "print(\"High skew features:\", skewed_features)"
   ]
  },
  {
   "cell_type": "markdown",
   "id": "397c1220",
   "metadata": {
    "papermill": {
     "duration": 0.006212,
     "end_time": "2025-04-27T15:11:31.915329",
     "exception": false,
     "start_time": "2025-04-27T15:11:31.909117",
     "status": "completed"
    },
    "tags": []
   },
   "source": [
    "## **2) Create a pipeline for a better preprocessing**"
   ]
  },
  {
   "cell_type": "code",
   "execution_count": 14,
   "id": "bc16d30e",
   "metadata": {
    "execution": {
     "iopub.execute_input": "2025-04-27T15:11:31.930104Z",
     "iopub.status.busy": "2025-04-27T15:11:31.929746Z",
     "iopub.status.idle": "2025-04-27T15:11:31.941159Z",
     "shell.execute_reply": "2025-04-27T15:11:31.940128Z"
    },
    "papermill": {
     "duration": 0.021421,
     "end_time": "2025-04-27T15:11:31.942910",
     "exception": false,
     "start_time": "2025-04-27T15:11:31.921489",
     "status": "completed"
    },
    "tags": []
   },
   "outputs": [],
   "source": [
    "from sklearn.pipeline import Pipeline, make_pipeline\n",
    "from sklearn.compose import ColumnTransformer, make_column_selector\n",
    "from sklearn.preprocessing import OneHotEncoder, StandardScaler, FunctionTransformer\n",
    "from sklearn.impute import SimpleImputer\n",
    "\n",
    "log_transformer = make_pipeline(                      \n",
    "    SimpleImputer(strategy=\"median\"),\n",
    "    FunctionTransformer(lambda x: np.log1p(np.clip(x, a_min=0, a_max=None)), feature_names_out=\"one-to-one\"),\n",
    "    StandardScaler()\n",
    ")\n",
    "\n",
    "numeric_transformer = make_pipeline(              \n",
    "    SimpleImputer(strategy=\"median\"),\n",
    "    StandardScaler()\n",
    ")\n",
    "\n",
    "preprocessor = ColumnTransformer([                       \n",
    "    (\"log\", log_transformer, skewed_features),\n",
    "    (\"num\", numeric_transformer, list(set(numeric_cols) - set(skewed_features))),\n",
    "])"
   ]
  },
  {
   "cell_type": "markdown",
   "id": "2bb1f53f",
   "metadata": {
    "papermill": {
     "duration": 0.005989,
     "end_time": "2025-04-27T15:11:31.956195",
     "exception": false,
     "start_time": "2025-04-27T15:11:31.950206",
     "status": "completed"
    },
    "tags": []
   },
   "source": [
    "## **3) Train andd evaluate different model**"
   ]
  },
  {
   "cell_type": "markdown",
   "id": "84f8bc7a",
   "metadata": {
    "papermill": {
     "duration": 0.006395,
     "end_time": "2025-04-27T15:11:31.969200",
     "exception": false,
     "start_time": "2025-04-27T15:11:31.962805",
     "status": "completed"
    },
    "tags": []
   },
   "source": [
    "## **Logistic Regression**"
   ]
  },
  {
   "cell_type": "code",
   "execution_count": 15,
   "id": "e08c4f4e",
   "metadata": {
    "execution": {
     "iopub.execute_input": "2025-04-27T15:11:31.984830Z",
     "iopub.status.busy": "2025-04-27T15:11:31.984134Z",
     "iopub.status.idle": "2025-04-27T15:11:41.925995Z",
     "shell.execute_reply": "2025-04-27T15:11:41.924788Z"
    },
    "papermill": {
     "duration": 9.951545,
     "end_time": "2025-04-27T15:11:41.927864",
     "exception": false,
     "start_time": "2025-04-27T15:11:31.976319",
     "status": "completed"
    },
    "tags": []
   },
   "outputs": [
    {
     "name": "stdout",
     "output_type": "stream",
     "text": [
      "Confusion Matrix For Logistic Regression:\n",
      " [[27637   685]\n",
      " [ 2345 25978]]\n",
      "Precision: 0.9743089674830289\n",
      "Recall: 0.9172050983299792\n",
      "F1 Score: 0.9448950641981596\n",
      "ROC AUC Score: 0.9855377180810578\n"
     ]
    }
   ],
   "source": [
    "#TRAIN A LOGISTIC REGRESSION MODEL\n",
    "from sklearn.linear_model import LogisticRegression\n",
    "from sklearn.metrics import roc_auc_score\n",
    "\n",
    "log_reg = Pipeline([\n",
    "    (\"preprocessor1\", preprocessor),\n",
    "    (\"log_reg\", LogisticRegression(max_iter=1000, random_state=42, class_weight='balanced')),\n",
    "])\n",
    "\n",
    "log_reg.fit(X_train, y_train)\n",
    "\n",
    "#EVALUATE THE MODEL\n",
    "from sklearn.model_selection import cross_val_predict\n",
    "y_val_pred_1 = log_reg.predict(X_val)\n",
    "\n",
    "from sklearn.metrics import precision_score, recall_score, f1_score, confusion_matrix\n",
    "print(\"Confusion Matrix For Logistic Regression:\\n\", confusion_matrix(y_val, y_val_pred_1))\n",
    "\n",
    "print(f\"Precision: { precision_score(y_val, y_val_pred_1)}\")\n",
    "print(f\"Recall: {recall_score(y_val, y_val_pred_1)}\")\n",
    "print(f\"F1 Score: {f1_score(y_val, y_val_pred_1)}\")\n",
    "\n",
    "y_val_pred_proba_1 = log_reg.predict_proba(X_val)[:, 1]\n",
    "print(f\"ROC AUC Score: {roc_auc_score(y_val, y_val_pred_proba_1)}\")"
   ]
  },
  {
   "cell_type": "markdown",
   "id": "8c173e80",
   "metadata": {
    "papermill": {
     "duration": 0.00727,
     "end_time": "2025-04-27T15:11:41.941934",
     "exception": false,
     "start_time": "2025-04-27T15:11:41.934664",
     "status": "completed"
    },
    "tags": []
   },
   "source": [
    "## **Random Forest**"
   ]
  },
  {
   "cell_type": "code",
   "execution_count": 16,
   "id": "5d64b03a",
   "metadata": {
    "execution": {
     "iopub.execute_input": "2025-04-27T15:11:41.958334Z",
     "iopub.status.busy": "2025-04-27T15:11:41.957963Z",
     "iopub.status.idle": "2025-04-27T15:19:59.383531Z",
     "shell.execute_reply": "2025-04-27T15:19:59.382391Z"
    },
    "papermill": {
     "duration": 497.435928,
     "end_time": "2025-04-27T15:19:59.385221",
     "exception": false,
     "start_time": "2025-04-27T15:11:41.949293",
     "status": "completed"
    },
    "tags": []
   },
   "outputs": [
    {
     "name": "stdout",
     "output_type": "stream",
     "text": [
      "Confusion Matrix For Random Forest:\n",
      " [[28321     1]\n",
      " [    0 28323]]\n",
      "Precision: 0.9999646942522242\n",
      "Recall: 1.0\n",
      "F1 Score: 0.9999823468144826\n",
      "ROC AUC Score: 1.0\n"
     ]
    }
   ],
   "source": [
    "from sklearn.ensemble import RandomForestClassifier\n",
    "\n",
    "rf_model = Pipeline([\n",
    "    (\"preprocessor1\", preprocessor),\n",
    "    (\"rf\", RandomForestClassifier(n_estimators=200, random_state=42, class_weight='balanced'))\n",
    "])\n",
    "\n",
    "rf_model.fit(X_train, y_train)\n",
    "\n",
    "y_val_pred_2 = rf_model.predict(X_val)\n",
    "\n",
    "print(\"Confusion Matrix For Random Forest:\\n\", confusion_matrix(y_val, y_val_pred_2))\n",
    "print(f\"Precision: {precision_score(y_val, y_val_pred_2)}\")\n",
    "print(f\"Recall: {recall_score(y_val, y_val_pred_2)}\")\n",
    "print(f\"F1 Score: {f1_score(y_val, y_val_pred_2)}\")\n",
    "\n",
    "y_val_pred_proba_2 = rf_model.predict_proba(X_val)[:, 1]\n",
    "print(f\"ROC AUC Score: {roc_auc_score(y_val, y_val_pred_proba_2)}\")"
   ]
  },
  {
   "cell_type": "markdown",
   "id": "91cad009",
   "metadata": {
    "papermill": {
     "duration": 0.006211,
     "end_time": "2025-04-27T15:19:59.398102",
     "exception": false,
     "start_time": "2025-04-27T15:19:59.391891",
     "status": "completed"
    },
    "tags": []
   },
   "source": [
    "### **We already find a good model**"
   ]
  },
  {
   "cell_type": "markdown",
   "id": "7b79fa6e",
   "metadata": {
    "papermill": {
     "duration": 0.006378,
     "end_time": "2025-04-27T15:19:59.410794",
     "exception": false,
     "start_time": "2025-04-27T15:19:59.404416",
     "status": "completed"
    },
    "tags": []
   },
   "source": [
    "## **4) Make the real test on the test set**"
   ]
  },
  {
   "cell_type": "code",
   "execution_count": 17,
   "id": "22821216",
   "metadata": {
    "execution": {
     "iopub.execute_input": "2025-04-27T15:19:59.425425Z",
     "iopub.status.busy": "2025-04-27T15:19:59.425100Z",
     "iopub.status.idle": "2025-04-27T15:21:09.404346Z",
     "shell.execute_reply": "2025-04-27T15:21:09.402878Z"
    },
    "papermill": {
     "duration": 69.995427,
     "end_time": "2025-04-27T15:21:09.412885",
     "exception": false,
     "start_time": "2025-04-27T15:19:59.417458",
     "status": "completed"
    },
    "tags": []
   },
   "outputs": [
    {
     "name": "stdout",
     "output_type": "stream",
     "text": [
      "Confusion matrix for stacking classifier:\n",
      " [[28315    11]\n",
      " [    0 28325]]\n",
      "Recall: 1.0\n",
      "Precision:  0.999611801242236\n",
      "F1 Score: 0.9998058629392351\n",
      "Classification Report, Stacking Classifier:\n",
      "              precision    recall  f1-score   support\n",
      "\n",
      "           0       1.00      1.00      1.00     28326\n",
      "           1       1.00      1.00      1.00     28325\n",
      "\n",
      "    accuracy                           1.00     56651\n",
      "   macro avg       1.00      1.00      1.00     56651\n",
      "weighted avg       1.00      1.00      1.00     56651\n",
      "\n"
     ]
    }
   ],
   "source": [
    "from sklearn.metrics import classification_report\n",
    "y_test_pred_RF= cross_val_predict(rf_model, X_test, y_test, cv=3)\n",
    "\n",
    "print(f\"Confusion matrix for stacking classifier:\\n {confusion_matrix(y_test, y_test_pred_RF)}\")\n",
    "print(f\"Recall: {recall_score(y_test, y_test_pred_RF)}\")\n",
    "print(f\"Precision:  {precision_score(y_test, y_test_pred_RF)}\")\n",
    "print(f\"F1 Score: {f1_score(y_test, y_test_pred_RF)}\")\n",
    "print(\"Classification Report, Stacking Classifier:\")\n",
    "print(classification_report(y_test, y_test_pred_RF))"
   ]
  },
  {
   "cell_type": "markdown",
   "id": "107a5503",
   "metadata": {
    "papermill": {
     "duration": 0.006628,
     "end_time": "2025-04-27T15:21:09.426451",
     "exception": false,
     "start_time": "2025-04-27T15:21:09.419823",
     "status": "completed"
    },
    "tags": []
   },
   "source": [
    "## **5) Find out the best theshold**"
   ]
  },
  {
   "cell_type": "code",
   "execution_count": 18,
   "id": "0dc5fa7a",
   "metadata": {
    "execution": {
     "iopub.execute_input": "2025-04-27T15:21:09.518496Z",
     "iopub.status.busy": "2025-04-27T15:21:09.518008Z",
     "iopub.status.idle": "2025-04-27T15:21:11.407759Z",
     "shell.execute_reply": "2025-04-27T15:21:11.406206Z"
    },
    "papermill": {
     "duration": 1.899778,
     "end_time": "2025-04-27T15:21:11.409591",
     "exception": false,
     "start_time": "2025-04-27T15:21:09.509813",
     "status": "completed"
    },
    "tags": []
   },
   "outputs": [
    {
     "name": "stdout",
     "output_type": "stream",
     "text": [
      "AUC Score: 1.0000\n"
     ]
    },
    {
     "data": {
      "image/png": "[encoded data removed]",
      "text/plain": [
       "<Figure size 800x600 with 1 Axes>"
      ]
     },
     "metadata": {},
     "output_type": "display_data"
    },
    {
     "name": "stdout",
     "output_type": "stream",
     "text": [
      "Best threshold based on Youden's J statistic: 1.0000\n",
      "Confusion matrix at new threshold 1.0:\n",
      " [[28326     0]\n",
      " [    0 28325]]\n",
      "Recall: 1.0\n",
      "Precision: 1.0\n",
      "F1 Score: 1.0\n",
      "              precision    recall  f1-score   support\n",
      "\n",
      "           0       1.00      1.00      1.00     28326\n",
      "           1       1.00      1.00      1.00     28325\n",
      "\n",
      "    accuracy                           1.00     56651\n",
      "   macro avg       1.00      1.00      1.00     56651\n",
      "weighted avg       1.00      1.00      1.00     56651\n",
      "\n"
     ]
    }
   ],
   "source": [
    "from sklearn.metrics import roc_curve\n",
    "import matplotlib.pyplot as plt\n",
    "\n",
    "y_test_proba = rf_model.predict_proba(X_test)[:, 1]\n",
    "\n",
    "fpr, tpr, thresholds = roc_curve(y_test, y_test_proba)\n",
    "\n",
    "roc_auc = roc_auc_score(y_test, y_test_proba)\n",
    "print(f\"AUC Score: {roc_auc:.4f}\")\n",
    "\n",
    "plt.figure(figsize=(8,6))\n",
    "plt.plot(fpr, tpr, color='blue', label=f'ROC curve (area = {roc_auc:.2f})')\n",
    "plt.plot([0, 1], [0, 1], color='red', linestyle='--')\n",
    "plt.xlabel('False Positive Rate')\n",
    "plt.ylabel('True Positive Rate')\n",
    "plt.title('Receiver Operating Characteristic (ROC) Curve')\n",
    "plt.legend()\n",
    "plt.grid()\n",
    "plt.show()\n",
    "\n",
    "J_scores = tpr - fpr\n",
    "best_threshold = thresholds[np.argmax(J_scores)]\n",
    "print(f\"Best threshold based on Youden's J statistic: {best_threshold:.4f}\")\n",
    "\n",
    "y_test_pred_new_threshold = (y_test_proba >= best_threshold).astype(int)\n",
    "\n",
    "print(f\"Confusion matrix at new threshold {best_threshold}:\\n {confusion_matrix(y_test, y_test_pred_new_threshold)}\")\n",
    "print(f\"Recall: {recall_score(y_test, y_test_pred_new_threshold)}\")\n",
    "print(f\"Precision: {precision_score(y_test, y_test_pred_new_threshold)}\")\n",
    "print(f\"F1 Score: {f1_score(y_test, y_test_pred_new_threshold)}\")\n",
    "print(classification_report(y_test, y_test_pred_new_threshold))"
   ]
  },
  {
   "cell_type": "markdown",
   "id": "3d1c19a0",
   "metadata": {
    "papermill": {
     "duration": 0.00711,
     "end_time": "2025-04-27T15:21:11.424820",
     "exception": false,
     "start_time": "2025-04-27T15:21:11.417710",
     "status": "completed"
    },
    "tags": []
   },
   "source": [
    "### **We have almost reached perfection**"
   ]
  },
  {
   "cell_type": "markdown",
   "id": "213a7ae7",
   "metadata": {
    "papermill": {
     "duration": 0.007034,
     "end_time": "2025-04-27T15:21:11.439265",
     "exception": false,
     "start_time": "2025-04-27T15:21:11.432231",
     "status": "completed"
    },
    "tags": []
   },
   "source": [
    "## **6) Save the best model with the best theshold**"
   ]
  },
  {
   "cell_type": "code",
   "execution_count": 19,
   "id": "cc73f8b5",
   "metadata": {
    "execution": {
     "iopub.execute_input": "2025-04-27T15:21:11.455551Z",
     "iopub.status.busy": "2025-04-27T15:21:11.454936Z",
     "iopub.status.idle": "2025-04-27T15:21:11.547347Z",
     "shell.execute_reply": "2025-04-27T15:21:11.546346Z"
    },
    "papermill": {
     "duration": 0.102225,
     "end_time": "2025-04-27T15:21:11.548967",
     "exception": false,
     "start_time": "2025-04-27T15:21:11.446742",
     "status": "completed"
    },
    "tags": []
   },
   "outputs": [
    {
     "data": {
      "text/plain": [
       "['stacking_RF_final.pkl']"
      ]
     },
     "execution_count": 19,
     "metadata": {},
     "output_type": "execute_result"
    }
   ],
   "source": [
    "import joblib\n",
    "joblib.dump({'model': rf_model, 'threshold': best_threshold}, 'stacking_RF_final.pkl')"
   ]
  }
 ],
 "metadata": {
  "kaggle": {
   "accelerator": "none",
   "dataSources": [
    {
     "datasetId": 310,
     "sourceId": 23498,
     "sourceType": "datasetVersion"
    }
   ],
   "dockerImageVersionId": 31012,
   "isGpuEnabled": false,
   "isInternetEnabled": true,
   "language": "python",
   "sourceType": "notebook"
  },
  "kernelspec": {
   "display_name": "Python 3",
   "language": "python",
   "name": "python3"
  },
  "language_info": {
   "codemirror_mode": {
    "name": "ipython",
    "version": 3
   },
   "file_extension": ".py",
   "mimetype": "text/x-python",
   "name": "python",
   "nbconvert_exporter": "python",
   "pygments_lexer": "ipython3",
   "version": "3.11.11"
  },
  "papermill": {
   "default_parameters": {},
   "duration": 638.553927,
   "end_time": "2025-04-27T15:21:15.156170",
   "environment_variables": {},
   "exception": null,
   "input_path": "__notebook__.ipynb",
   "output_path": "__notebook__.ipynb",
   "parameters": {},
   "start_time": "2025-04-27T15:10:36.602243",
   "version": "2.6.0"
  }
 },
 "nbformat": 4,
 "nbformat_minor": 5
}
